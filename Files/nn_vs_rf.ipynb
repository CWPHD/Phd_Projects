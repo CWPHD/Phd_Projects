{
 "cells": [
  {
   "cell_type": "code",
   "execution_count": 3,
   "id": "e979e9ee-c234-4be9-b8b8-76ac67e3190d",
   "metadata": {},
   "outputs": [
    {
     "name": "stdout",
     "output_type": "stream",
     "text": [
      "              precision    recall  f1-score   support\n",
      "\n",
      "           0       0.57      0.54      0.55    172909\n",
      "           1       0.58      0.60      0.59    180230\n",
      "\n",
      "    accuracy                           0.57    353139\n",
      "   macro avg       0.57      0.57      0.57    353139\n",
      "weighted avg       0.57      0.57      0.57    353139\n",
      "\n",
      "[[ 93223  79686]\n",
      " [ 71451 108779]]\n"
     ]
    }
   ],
   "source": [
    "#Classification - Random Forest\n",
    "import pandas as pd\n",
    "from sklearn.model_selection import train_test_split\n",
    "from sklearn.ensemble import RandomForestClassifier\n",
    "from sklearn.metrics import classification_report, confusion_matrix\n",
    "\n",
    "#Load S&P Dataset\n",
    "df = pd.read_csv('/Users/cwaldner/Library/CloudStorage/OneDrive-NorthcentralUniversity/PhD Program/TIM-8131/Week8/SP_Data/sp500_stocks.csv')\n",
    "\n",
    "#Preproccessing\n",
    "    #Drop Missing\n",
    "df.dropna(inplace=True)\n",
    "\n",
    "    #Create DF for Price Move - 1 Up else 0\n",
    "df['Next_High'] = df['High'].shift(-1)  \n",
    "df['Price_Movement'] = (df['Next_High'] > df['High']).astype(int)  \n",
    "\n",
    "#Features\n",
    "X = df[['Open', 'High', 'Low', 'Volume']]\n",
    "y = df['Price_Movement']\n",
    "\n",
    "#Split, Train, Test\n",
    "X_train, X_test, y_train, y_test = train_test_split(X, y, test_size=0.2, random_state=42)\n",
    "\n",
    "# Train Random Forest w/ parallel processing\n",
    "clf = RandomForestClassifier(n_estimators=100, random_state=42, n_jobs=-1)\n",
    "clf.fit(X_train, y_train)\n",
    "\n",
    "#Predict\n",
    "y_pred = clf.predict(X_test)\n",
    "\n",
    "#Results\n",
    "print(classification_report(y_test, y_pred))\n",
    "print(confusion_matrix(y_test, y_pred))\n"
   ]
  },
  {
   "cell_type": "code",
   "execution_count": 4,
   "id": "969ef3dd-a388-4b51-8415-36f84092fac0",
   "metadata": {},
   "outputs": [
    {
     "name": "stdout",
     "output_type": "stream",
     "text": [
      "Epoch 1/20\n"
     ]
    },
    {
     "name": "stderr",
     "output_type": "stream",
     "text": [
      "/Library/Frameworks/Python.framework/Versions/3.11/lib/python3.11/site-packages/keras/src/layers/core/dense.py:87: UserWarning: Do not pass an `input_shape`/`input_dim` argument to a layer. When using Sequential models, prefer using an `Input(shape)` object as the first layer in the model instead.\n",
      "  super().__init__(activity_regularizer=activity_regularizer, **kwargs)\n"
     ]
    },
    {
     "name": "stdout",
     "output_type": "stream",
     "text": [
      "\u001b[1m44143/44143\u001b[0m \u001b[32m━━━━━━━━━━━━━━━━━━━━\u001b[0m\u001b[37m\u001b[0m \u001b[1m11s\u001b[0m 237us/step - accuracy: 0.5166 - loss: 0.6928\n",
      "Epoch 2/20\n",
      "\u001b[1m44143/44143\u001b[0m \u001b[32m━━━━━━━━━━━━━━━━━━━━\u001b[0m\u001b[37m\u001b[0m \u001b[1m10s\u001b[0m 237us/step - accuracy: 0.5254 - loss: 0.6912\n",
      "Epoch 3/20\n",
      "\u001b[1m44143/44143\u001b[0m \u001b[32m━━━━━━━━━━━━━━━━━━━━\u001b[0m\u001b[37m\u001b[0m \u001b[1m10s\u001b[0m 236us/step - accuracy: 0.5384 - loss: 0.6894\n",
      "Epoch 4/20\n",
      "\u001b[1m44143/44143\u001b[0m \u001b[32m━━━━━━━━━━━━━━━━━━━━\u001b[0m\u001b[37m\u001b[0m \u001b[1m10s\u001b[0m 235us/step - accuracy: 0.5497 - loss: 0.6871\n",
      "Epoch 5/20\n",
      "\u001b[1m44143/44143\u001b[0m \u001b[32m━━━━━━━━━━━━━━━━━━━━\u001b[0m\u001b[37m\u001b[0m \u001b[1m10s\u001b[0m 235us/step - accuracy: 0.5604 - loss: 0.6841\n",
      "Epoch 6/20\n",
      "\u001b[1m44143/44143\u001b[0m \u001b[32m━━━━━━━━━━━━━━━━━━━━\u001b[0m\u001b[37m\u001b[0m \u001b[1m10s\u001b[0m 235us/step - accuracy: 0.5678 - loss: 0.6816\n",
      "Epoch 7/20\n",
      "\u001b[1m44143/44143\u001b[0m \u001b[32m━━━━━━━━━━━━━━━━━━━━\u001b[0m\u001b[37m\u001b[0m \u001b[1m10s\u001b[0m 235us/step - accuracy: 0.5721 - loss: 0.6794\n",
      "Epoch 8/20\n",
      "\u001b[1m44143/44143\u001b[0m \u001b[32m━━━━━━━━━━━━━━━━━━━━\u001b[0m\u001b[37m\u001b[0m \u001b[1m10s\u001b[0m 235us/step - accuracy: 0.5772 - loss: 0.6775\n",
      "Epoch 9/20\n",
      "\u001b[1m44143/44143\u001b[0m \u001b[32m━━━━━━━━━━━━━━━━━━━━\u001b[0m\u001b[37m\u001b[0m \u001b[1m10s\u001b[0m 234us/step - accuracy: 0.5814 - loss: 0.6757\n",
      "Epoch 10/20\n",
      "\u001b[1m44143/44143\u001b[0m \u001b[32m━━━━━━━━━━━━━━━━━━━━\u001b[0m\u001b[37m\u001b[0m \u001b[1m10s\u001b[0m 236us/step - accuracy: 0.5846 - loss: 0.6743\n",
      "Epoch 11/20\n",
      "\u001b[1m44143/44143\u001b[0m \u001b[32m━━━━━━━━━━━━━━━━━━━━\u001b[0m\u001b[37m\u001b[0m \u001b[1m10s\u001b[0m 235us/step - accuracy: 0.5862 - loss: 0.6731\n",
      "Epoch 12/20\n",
      "\u001b[1m44143/44143\u001b[0m \u001b[32m━━━━━━━━━━━━━━━━━━━━\u001b[0m\u001b[37m\u001b[0m \u001b[1m10s\u001b[0m 233us/step - accuracy: 0.5883 - loss: 0.6718\n",
      "Epoch 13/20\n",
      "\u001b[1m44143/44143\u001b[0m \u001b[32m━━━━━━━━━━━━━━━━━━━━\u001b[0m\u001b[37m\u001b[0m \u001b[1m10s\u001b[0m 233us/step - accuracy: 0.5897 - loss: 0.6710\n",
      "Epoch 14/20\n",
      "\u001b[1m44143/44143\u001b[0m \u001b[32m━━━━━━━━━━━━━━━━━━━━\u001b[0m\u001b[37m\u001b[0m \u001b[1m10s\u001b[0m 233us/step - accuracy: 0.5907 - loss: 0.6705\n",
      "Epoch 15/20\n",
      "\u001b[1m44143/44143\u001b[0m \u001b[32m━━━━━━━━━━━━━━━━━━━━\u001b[0m\u001b[37m\u001b[0m \u001b[1m10s\u001b[0m 232us/step - accuracy: 0.5917 - loss: 0.6699\n",
      "Epoch 16/20\n",
      "\u001b[1m44143/44143\u001b[0m \u001b[32m━━━━━━━━━━━━━━━━━━━━\u001b[0m\u001b[37m\u001b[0m \u001b[1m10s\u001b[0m 231us/step - accuracy: 0.5923 - loss: 0.6695\n",
      "Epoch 17/20\n",
      "\u001b[1m44143/44143\u001b[0m \u001b[32m━━━━━━━━━━━━━━━━━━━━\u001b[0m\u001b[37m\u001b[0m \u001b[1m10s\u001b[0m 231us/step - accuracy: 0.5922 - loss: 0.6692\n",
      "Epoch 18/20\n",
      "\u001b[1m44143/44143\u001b[0m \u001b[32m━━━━━━━━━━━━━━━━━━━━\u001b[0m\u001b[37m\u001b[0m \u001b[1m10s\u001b[0m 231us/step - accuracy: 0.5921 - loss: 0.6693\n",
      "Epoch 19/20\n",
      "\u001b[1m44143/44143\u001b[0m \u001b[32m━━━━━━━━━━━━━━━━━━━━\u001b[0m\u001b[37m\u001b[0m \u001b[1m10s\u001b[0m 231us/step - accuracy: 0.5934 - loss: 0.6688\n",
      "Epoch 20/20\n",
      "\u001b[1m44143/44143\u001b[0m \u001b[32m━━━━━━━━━━━━━━━━━━━━\u001b[0m\u001b[37m\u001b[0m \u001b[1m10s\u001b[0m 232us/step - accuracy: 0.5932 - loss: 0.6684\n",
      "\u001b[1m11036/11036\u001b[0m \u001b[32m━━━━━━━━━━━━━━━━━━━━\u001b[0m\u001b[37m\u001b[0m \u001b[1m2s\u001b[0m 214us/step - accuracy: 0.6020 - loss: 0.6661\n",
      "Accuracy: 0.6026\n",
      "\u001b[1m11036/11036\u001b[0m \u001b[32m━━━━━━━━━━━━━━━━━━━━\u001b[0m\u001b[37m\u001b[0m \u001b[1m2s\u001b[0m 171us/step\n"
     ]
    }
   ],
   "source": [
    "#Neural Network - Shallow\n",
    "import pandas as pd\n",
    "from sklearn.model_selection import train_test_split\n",
    "from sklearn.preprocessing import StandardScaler\n",
    "from keras.models import Sequential\n",
    "from keras.layers import Dense\n",
    "\n",
    "#Load S&P Dataset\n",
    "df = pd.read_csv('/Users/cwaldner/Library/CloudStorage/OneDrive-NorthcentralUniversity/PhD Program/TIM-8131/Week8/SP_Data/sp500_stocks.csv')\n",
    "\n",
    "#Preproccessing\n",
    "    #Drop Missing\n",
    "df.dropna(inplace=True)\n",
    "\n",
    "#Prepare Features\n",
    "df['Next_High'] = df['High'].shift(-1)\n",
    "df['Target'] = (df['Next_High'] > df['High']).astype(int)\n",
    "df.drop(['Date', 'Symbol', 'Adj Close', 'Close', 'Next_High'], axis=1, inplace=True)\n",
    "\n",
    "#Set Target\n",
    "X = df.drop('Target', axis=1)\n",
    "y = df['Target']\n",
    "\n",
    "#Split, Train, Test\n",
    "X_train, X_test, y_train, y_test = train_test_split(X, y, test_size=0.2, random_state=42)\n",
    "\n",
    "#Scale features\n",
    "scaler = StandardScaler()\n",
    "X_train = scaler.fit_transform(X_train)\n",
    "X_test = scaler.transform(X_test)\n",
    "\n",
    "#Build SNN w/ 1 layer hidden\n",
    "model = Sequential()\n",
    "model.add(Dense(10, activation='relu', input_shape=(X_train.shape[1],)))  \n",
    "model.add(Dense(1, activation='sigmoid'))  \n",
    "\n",
    "#Compile\n",
    "model.compile(optimizer='adam', loss='binary_crossentropy', metrics=['accuracy'])\n",
    "\n",
    "#Train\n",
    "model.fit(X_train, y_train, epochs=20, batch_size=32, verbose=1)\n",
    "\n",
    "#Evaluate\n",
    "loss, accuracy = model.evaluate(X_test, y_test)\n",
    "print(f'Accuracy: {accuracy:.4f}')\n",
    "\n",
    "#Predict\n",
    "y_pred = (model.predict(X_test) > 0.5).astype(\"int32\")\n"
   ]
  },
  {
   "cell_type": "code",
   "execution_count": null,
   "id": "4fe32fc1-0b22-45ac-aea4-6beaffef23c7",
   "metadata": {},
   "outputs": [],
   "source": []
  }
 ],
 "metadata": {
  "kernelspec": {
   "display_name": "Python 3 (ipykernel)",
   "language": "python",
   "name": "python3"
  },
  "language_info": {
   "codemirror_mode": {
    "name": "ipython",
    "version": 3
   },
   "file_extension": ".py",
   "mimetype": "text/x-python",
   "name": "python",
   "nbconvert_exporter": "python",
   "pygments_lexer": "ipython3",
   "version": "3.11.5"
  }
 },
 "nbformat": 4,
 "nbformat_minor": 5
}
